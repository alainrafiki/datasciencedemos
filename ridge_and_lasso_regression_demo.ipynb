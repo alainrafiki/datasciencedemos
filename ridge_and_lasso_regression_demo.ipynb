{
  "nbformat": 4,
  "nbformat_minor": 0,
  "metadata": {
    "colab": {
      "provenance": [],
      "authorship_tag": "ABX9TyMuq2+G9YBjLauN3zUZ74/R",
      "include_colab_link": true
    },
    "kernelspec": {
      "name": "python3",
      "display_name": "Python 3"
    },
    "language_info": {
      "name": "python"
    }
  },
  "cells": [
    {
      "cell_type": "markdown",
      "metadata": {
        "id": "view-in-github",
        "colab_type": "text"
      },
      "source": [
        "<a href=\"https://colab.research.google.com/github/alainrafiki/datasciencedemos/blob/main/ridge_and_lasso_regression_demo.ipynb\" target=\"_parent\"><img src=\"https://colab.research.google.com/assets/colab-badge.svg\" alt=\"Open In Colab\"/></a>"
      ]
    },
    {
      "cell_type": "code",
      "execution_count": 1,
      "metadata": {
        "id": "BVxeMMmP0str"
      },
      "outputs": [],
      "source": [
        "import pandas as pd\n",
        "from sklearn.linear_model import Ridge, Lasso\n",
        "from sklearn.model_selection import train_test_split, GridSearchCV\n",
        "from sklearn.metrics import mean_squared_error\n",
        "import numpy as np"
      ]
    },
    {
      "cell_type": "code",
      "source": [
        "# **1. Synthetic Dataset Creation**\n",
        "\n",
        "\n",
        "def generate_synthetic_translation_data(num_rows=10000, num_features=30):\n",
        "    \"\"\"\n",
        "    Generates a synthetic dataset with features related to Bible translation.\n",
        "\n",
        "    Args:\n",
        "        num_rows: Number of rows in the dataset.\n",
        "        num_features: Number of features in the dataset.\n",
        "\n",
        "    Returns:\n",
        "        pandas DataFrame: Synthetic dataset with features and target.\n",
        "    \"\"\"\n",
        "\n",
        "    data = pd.DataFrame()\n",
        "\n",
        "    # Generate some linguistic features (example)\n",
        "    data['lexical_diversity'] = np.random.uniform(0.5, 0.8, num_rows)\n",
        "    data['avg_sentence_length'] = np.random.randint(10, 30, num_rows)\n",
        "    data['noun_ratio'] = np.random.uniform(0.2, 0.4, num_rows)\n",
        "\n",
        "    # Generate some cross-lingual features (example)\n",
        "    data['word_alignment_score'] = np.random.uniform(0.7, 0.95, num_rows)\n",
        "    data['lexical_overlap'] = np.random.uniform(0.5, 0.8, num_rows)\n",
        "\n",
        "    # Generate some translation process features (example)\n",
        "    data['translator_experience'] = np.random.randint(1, 10, num_rows)  # Simulate experience levels\n",
        "    data['translation_time'] = np.random.randint(30, 180, num_rows)  # Simulate translation time (in minutes)\n",
        "\n",
        "    # Generate a synthetic quality score (replace with your actual quality assessment method)\n",
        "    data['quality_score'] = (\n",
        "        0.5 * data['word_alignment_score']\n",
        "        + 0.3 * data['lexical_diversity']\n",
        "        + 0.2 * (1 / data['translation_time'])  # Inversely proportional to time\n",
        "        + np.random.normal(0, 0.1, num_rows)  # Add some noise\n",
        "    )\n",
        "\n",
        "    # Generate remaining features randomly\n",
        "    for i in range(num_features - len(data.columns)):\n",
        "        data[f'feature_{i}'] = np.random.rand(num_rows)\n",
        "\n",
        "    return data\n",
        "\n",
        "# Generate the synthetic dataset\n",
        "df = generate_synthetic_translation_data()"
      ],
      "metadata": {
        "id": "fJPvmI5Q08Tr"
      },
      "execution_count": 2,
      "outputs": []
    },
    {
      "cell_type": "code",
      "source": [
        "# **2. Data Preparation**\n",
        "\n",
        "X = df.drop('quality_score', axis=1)  # Features\n",
        "y = df['quality_score']             # Target variable\n",
        "\n",
        "X_train, X_test, y_train, y_test = train_test_split(X, y, test_size=0.2, random_state=42)"
      ],
      "metadata": {
        "id": "DrQBmhS94pTR"
      },
      "execution_count": 3,
      "outputs": []
    },
    {
      "cell_type": "code",
      "source": [
        "# **3. Ridge Regression**\n",
        "\n",
        "# Define a parameter grid for alpha values\n",
        "ridge_param_grid = {'alpha': [0.01, 0.1, 1.0, 10.0, 100.0]}\n",
        "\n",
        "# Create a Ridge Regression model\n",
        "ridge_model = Ridge()\n",
        "\n",
        "# Perform grid search with cross-validation\n",
        "ridge_grid_search = GridSearchCV(estimator=ridge_model,\n",
        "                                param_grid=ridge_param_grid,\n",
        "                                cv=5,\n",
        "                                scoring='neg_mean_squared_error')\n",
        "ridge_grid_search.fit(X_train, y_train)\n",
        "\n",
        "# Get the best alpha value\n",
        "best_ridge_alpha = ridge_grid_search.best_params_['alpha']\n",
        "print(f\"Best Ridge Alpha: {best_ridge_alpha}\")\n",
        "\n",
        "# Train the Ridge model with the best alpha\n",
        "best_ridge_model = Ridge(alpha=best_ridge_alpha)\n",
        "best_ridge_model.fit(X_train, y_train)\n",
        "\n",
        "# Make predictions\n",
        "ridge_predictions = best_ridge_model.predict(X_test)\n",
        "print(f\"Ridge Predictions: {ridge_predictions}\")\n",
        "\n",
        "# Evaluate the model\n",
        "ridge_mse = mean_squared_error(y_test, ridge_predictions)\n",
        "print(f\"Ridge Regression MSE: {ridge_mse}\")\n"
      ],
      "metadata": {
        "colab": {
          "base_uri": "https://localhost:8080/"
        },
        "id": "vYkvQU6e47nL",
        "outputId": "d6d6078d-a3ef-4eb0-971e-605728dc8964"
      },
      "execution_count": 4,
      "outputs": [
        {
          "output_type": "stream",
          "name": "stdout",
          "text": [
            "Best Ridge Alpha: 0.1\n",
            "Ridge Predictions: [0.56789046 0.60626402 0.65480948 ... 0.57536661 0.56820461 0.57932912]\n",
            "Ridge Regression MSE: 0.010152787550912245\n"
          ]
        }
      ]
    },
    {
      "cell_type": "code",
      "source": [
        "# **4. Lasso Regression**\n",
        "\n",
        "# Define a parameter grid for alpha values\n",
        "lasso_param_grid = {'alpha': [0.001, 0.01, 0.1, 1.0]}\n",
        "\n",
        "# Create a Lasso Regression model\n",
        "lasso_model = Lasso()\n",
        "\n",
        "# Perform grid search with cross-validation\n",
        "lasso_grid_search = GridSearchCV(estimator=lasso_model,\n",
        "                                param_grid=lasso_param_grid,\n",
        "                                cv=5,\n",
        "                                scoring='neg_mean_squared_error')\n",
        "lasso_grid_search.fit(X_train, y_train)\n",
        "\n",
        "# Get the best alpha value\n",
        "best_lasso_alpha = lasso_grid_search.best_params_['alpha']\n",
        "print(f\"Best Lasso Alpha: {best_lasso_alpha}\")\n",
        "\n",
        "# Train the Lasso model with the best alpha\n",
        "best_lasso_model = Lasso(alpha=best_lasso_alpha)\n",
        "best_lasso_model.fit(X_train, y_train)\n",
        "\n",
        "# Make predictions\n",
        "lasso_predictions = best_lasso_model.predict(X_test)\n",
        "print(f\"Lasso Predictions: {lasso_predictions}\")\n",
        "\n",
        "# Evaluate the model\n",
        "lasso_mse = mean_squared_error(y_test, lasso_predictions)\n",
        "print(f\"Lasso Regression MSE: {lasso_mse}\")"
      ],
      "metadata": {
        "colab": {
          "base_uri": "https://localhost:8080/"
        },
        "id": "dSDSwEvC5EZr",
        "outputId": "4d525855-a73b-4e49-b9e2-0ccf17f638d9"
      },
      "execution_count": 5,
      "outputs": [
        {
          "output_type": "stream",
          "name": "stdout",
          "text": [
            "Best Lasso Alpha: 0.001\n",
            "Lasso Predictions: [0.57801794 0.60777354 0.63668328 ... 0.58976468 0.58639185 0.59599511]\n",
            "Lasso Regression MSE: 0.01045077282599916\n"
          ]
        }
      ]
    },
    {
      "cell_type": "code",
      "source": [
        "# **5. Feature Selection (Lasso)**\n",
        "\n",
        "selected_features = X.columns[best_lasso_model.coef_ != 0]\n",
        "print(\"Features selected by Lasso:\\n\", list(selected_features))\n",
        "print(\"That is %.1f features\" % len(selected_features) )"
      ],
      "metadata": {
        "colab": {
          "base_uri": "https://localhost:8080/"
        },
        "id": "TyGIfp3k5HcP",
        "outputId": "28c78992-9947-4e5c-b60b-0f7962010510"
      },
      "execution_count": 6,
      "outputs": [
        {
          "output_type": "stream",
          "name": "stdout",
          "text": [
            "Features selected by Lasso:\n",
            " ['lexical_diversity', 'avg_sentence_length', 'word_alignment_score', 'translation_time']\n",
            "That is 4.0 features\n"
          ]
        }
      ]
    },
    {
      "cell_type": "code",
      "source": [
        "# Preprare a little function for pretty printing a long list of features\n",
        "import textwrap\n",
        "\n",
        "def print_wrapped_list(title, my_list, width=6):\n",
        "    print(title)\n",
        "    wrapped_list = textwrap.wrap(', '.join(map(str, my_list)), width=width*12)\n",
        "    for line in wrapped_list:\n",
        "      print(line)\n",
        "    print(\"That is %.1f features\" % len(my_list))"
      ],
      "metadata": {
        "id": "fJLWKZRrCA0b"
      },
      "execution_count": 7,
      "outputs": []
    },
    {
      "cell_type": "code",
      "source": [
        "# **6. Feature Section (Ridge)**\n",
        "\n",
        "selected_features_ridge = X.columns[best_ridge_model.coef_ != 0]\n",
        "print_wrapped_list(\"Features selected by Ridge:\\n\", list(selected_features_ridge))"
      ],
      "metadata": {
        "colab": {
          "base_uri": "https://localhost:8080/"
        },
        "id": "9ItHRKeA_b3G",
        "outputId": "4dda2d5f-4584-4048-f370-1211097571ea"
      },
      "execution_count": 8,
      "outputs": [
        {
          "output_type": "stream",
          "name": "stdout",
          "text": [
            "Features selected by Ridge:\n",
            "\n",
            "lexical_diversity, avg_sentence_length, noun_ratio,\n",
            "word_alignment_score, lexical_overlap, translator_experience,\n",
            "translation_time, feature_0, feature_1, feature_2, feature_3, feature_4,\n",
            "feature_5, feature_6, feature_7, feature_8, feature_9, feature_10,\n",
            "feature_11, feature_12, feature_13, feature_14, feature_15, feature_16,\n",
            "feature_17, feature_18, feature_19, feature_20, feature_21\n",
            "That is 29.0 features\n"
          ]
        }
      ]
    }
  ]
}